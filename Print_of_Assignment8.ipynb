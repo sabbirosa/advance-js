{
  "nbformat": 4,
  "nbformat_minor": 0,
  "metadata": {
    "colab": {
      "provenance": [],
      "authorship_tag": "ABX9TyOlFvb0RArTp+hm0gmlC4P3",
      "include_colab_link": true
    },
    "kernelspec": {
      "name": "python3",
      "display_name": "Python 3"
    },
    "language_info": {
      "name": "python"
    }
  },
  "cells": [
    {
      "cell_type": "markdown",
      "metadata": {
        "id": "view-in-github",
        "colab_type": "text"
      },
      "source": [
        "<a href=\"https://colab.research.google.com/github/sabbirosa/advance-js/blob/master/Print_of_Assignment8.ipynb\" target=\"_parent\"><img src=\"https://colab.research.google.com/assets/colab-badge.svg\" alt=\"Open In Colab\"/></a>"
      ]
    },
    {
      "cell_type": "code",
      "source": [
        "#Task 1\n",
        "\n",
        "class ComplexNumber(RealNumber):\n",
        "    def __init__(self, real = 1, imaginary = 1):\n",
        "        super().__init__(float(real))\n",
        "        self.imaginary = float(imaginary)\n",
        "  \n",
        "    def __str__(self):\n",
        "        return f\"{super().__str__()}\\nImaginaryPart: {self.imaginary}\""
      ],
      "metadata": {
        "id": "ylce9J7gwyde"
      },
      "execution_count": null,
      "outputs": []
    },
    {
      "cell_type": "code",
      "source": [
        "#Task 2\n",
        "\n",
        "class ComplexNumber(RealNumber):\n",
        "    def __init__(self, real, imaginary):\n",
        "        if type(real) == int:\n",
        "            super().__init__(real)\n",
        "        else:\n",
        "            super().__init__(real.number)\n",
        "        self.imaginary = imaginary\n",
        "\n",
        "    def __add__(self, other):\n",
        "        return ComplexNumber(super().__add__(other), (self.imaginary + other.imaginary))\n",
        "\n",
        "    def __sub__(self, other):\n",
        "        return ComplexNumber(super().__sub__(other), (self.imaginary - other.imaginary))\n",
        "\n",
        "    def __str__(self):\n",
        "        if self.imaginary < 0:\n",
        "            return f\"{super().__str__()} - {str(-self.imaginary)}i\"\n",
        "        else:\n",
        "            return f\"{super().__str__()} + {self.imaginary}i\""
      ],
      "metadata": {
        "id": "VLcL4qor3QDW"
      },
      "execution_count": null,
      "outputs": []
    },
    {
      "cell_type": "code",
      "source": [
        "#Task 3\n",
        "\n",
        "class CheckingAccount(Account):\n",
        "    numberOfAccount = 0\n",
        "    def __init__(self, balance=0.0):\n",
        "        super().__init__(balance)\n",
        "        CheckingAccount.numberOfAccount += 1\n",
        "  \n",
        "    def __str__(self):\n",
        "        return f\"Account Balance: {self._balance}\""
      ],
      "metadata": {
        "id": "iQmRbgRP5NQt"
      },
      "execution_count": null,
      "outputs": []
    },
    {
      "cell_type": "code",
      "source": [
        "#Task 4\n",
        "   \n",
        "class Mango(Fruit, testFruit):\n",
        "    def __init__(self, formalin=True, name=\"Mango\"):\n",
        "        super().__init__(formalin, name)\n",
        "\n",
        "    def __str__(self):\n",
        "        if self.hasFormalin():\n",
        "            return f\"{self.getName()}s are bad for you\"\n",
        "        else:\n",
        "            return f\"{str(self.getName())}s are good for you\"\n",
        "\n",
        "\n",
        "class Jackfruit(Fruit, testFruit):\n",
        "    def __init__(self, formalin=False, name=\"Jackfruit\"):\n",
        "        super().__init__(formalin, name)\n",
        "\n",
        "    def __str__(self):\n",
        "        if self.hasFormalin():\n",
        "            return f\"{self.getName()}s are bad for you\"\n",
        "        else:\n",
        "            return f\"{str(self.getName())}s are good for you\""
      ],
      "metadata": {
        "id": "BeRRsPBj9ed4"
      },
      "execution_count": null,
      "outputs": []
    },
    {
      "cell_type": "code",
      "source": [
        "#Task 5\n",
        "    \n",
        "class ScienceExam(Exam):\n",
        "    def __init__(self, marks, time, *subjects):\n",
        "        super().__init__(marks)\n",
        "        self.time = time\n",
        "        self.subjects = list(subjects)\n",
        "    \n",
        "    def examSyllabus(self):\n",
        "        return super().examSyllabus() + \" , \" + \" , \".join(self.subjects)\n",
        "    \n",
        "    def examParts(self):\n",
        "        parts = super().examParts()\n",
        "        counter = 3\n",
        "        \n",
        "        for i in self.subjects:\n",
        "            parts += f\"part {str(counter)} - {i}\\n\"\n",
        "            counter += 1\n",
        "\n",
        "        return parts\n",
        "    \n",
        "    def __str__(self):    \n",
        "        return f\"Marks: {self.marks} Time: {self.time} minutes Number of Parts: {len(self.subjects) + 2}\""
      ],
      "metadata": {
        "id": "95rBlBzTzPS0"
      },
      "execution_count": null,
      "outputs": []
    },
    {
      "cell_type": "code",
      "source": [
        "#Task 6\n",
        "\n",
        "class Sphere(Shape3D):\n",
        "    def __init__(self, name, radius):\n",
        "        super().__init__(name, radius)\n",
        "        print(f\"Shape name: {self._name} Area Formula: 4*pi*r*r\")\n",
        "    \n",
        "    def calc_surface_area(self):\n",
        "        self._area = 4 * Shape3D.pi * self._radius * self._radius \n",
        "        return self._area\n",
        "\n",
        "    def __str__(self):\n",
        "        return f\"{super().__str__()}, Height: {str(self._height)}\\nArea: {str(self._area)}\"\n",
        "\n",
        "class Cylinder(Shape3D):\n",
        "    def __init__(self, name, radius, height):\n",
        "        super().__init__(name, radius)\n",
        "        print(f\"Shape name: {str(self._name)} Area Formula: 2*pi*r*(r+h)\")\n",
        "        self._height = height\n",
        "\n",
        "    def calc_surface_area(self):\n",
        "        self._area = 2 * Shape3D.pi * self._radius * (self._radius + self._height)\n",
        "        return self._area\n",
        "\n",
        "    def __str__(self):\n",
        "        return f\"{super().__str__()}, Height: {str(self._height)}\\nArea: {str(self._area)}\""
      ],
      "metadata": {
        "id": "prgb3-y_5ktK"
      },
      "execution_count": null,
      "outputs": []
    },
    {
      "cell_type": "code",
      "source": [
        "#Task 7\n",
        "   \n",
        "class PokemonExtra(PokemonBasic):\n",
        "    def __init__( self, name=\"Defalut\", hp=0, weakness=None, type=None, secondary=None, *extra_moves):\n",
        "        super().__init__(name, hp, weakness, type)\n",
        "        self.secondary = secondary\n",
        "        self.extra_moves = extra_moves\n",
        "\n",
        "        self.move_lst = list(self.extra_moves)\n",
        "        self.var1 = []\n",
        "        self.var2 = \"\"\n",
        "        for i in self.extra_moves:\n",
        "            self.var1 = list(i)\n",
        "        self.var2 += \", \".join(self.var1)\n",
        "\n",
        "    def get_type(self):\n",
        "        if self.secondary == None:\n",
        "            return f\"Main type: {self.type}\"\n",
        "        else:\n",
        "            return f\"Main type: {self.type} Secondary type: {self.secondary}\"\n",
        "\n",
        "    def get_move(self):\n",
        "        if len(self.extra_moves) == 0:\n",
        "            return \"Basic move: Quick Attack\"\n",
        "        else:\n",
        "            return f\"Basic move: Quick Attack\\nOther moves: {str(self.var2)}\""
      ],
      "metadata": {
        "id": "-DK5nO_M_V6H"
      },
      "execution_count": null,
      "outputs": []
    }
  ]
}